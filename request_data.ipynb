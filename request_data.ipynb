{
 "cells": [
  {
   "cell_type": "code",
   "execution_count": 85,
   "metadata": {},
   "outputs": [],
   "source": [
    "import requests\n",
    "import pandas as pd\n",
    "\n",
    "url = 'http://127.0.0.1:5000/estimate'\n",
    "request_data = {'start': '2023-07-10',\n",
    "        'end': '2023-07-11',\n",
    "        'lat': 52.1077,\n",
    "        'lon': 22.1306,\n",
    "        'azimuth': 0,\n",
    "        'angle': 30,\n",
    "        'peak_power': 7000,\n",
    "}\n",
    "\n",
    "response = requests.post(url, json=request_data)\n",
    "\n",
    "production_df = pd.DataFrame(data=response.json())\n",
    "production_df = production_df.set_index('time')\n",
    "production_df.index = pd.DatetimeIndex(production_df.index)"
   ]
  },
  {
   "cell_type": "code",
   "execution_count": null,
   "metadata": {},
   "outputs": [],
   "source": [
    "import plotly.express as px\n",
    "\n",
    "px.area(production_df)"
   ]
  }
 ],
 "metadata": {
  "kernelspec": {
   "display_name": "Python 3",
   "language": "python",
   "name": "python3"
  },
  "language_info": {
   "codemirror_mode": {
    "name": "ipython",
    "version": 3
   },
   "file_extension": ".py",
   "mimetype": "text/x-python",
   "name": "python",
   "nbconvert_exporter": "python",
   "pygments_lexer": "ipython3",
   "version": "3.11.4"
  },
  "orig_nbformat": 4
 },
 "nbformat": 4,
 "nbformat_minor": 2
}
