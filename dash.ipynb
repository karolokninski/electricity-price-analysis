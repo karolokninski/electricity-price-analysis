{
 "cells": [
  {
   "cell_type": "code",
   "execution_count": 1,
   "metadata": {},
   "outputs": [],
   "source": [
    "import pandas as pd\n",
    "from datetime import datetime"
   ]
  },
  {
   "cell_type": "code",
   "execution_count": 2,
   "metadata": {},
   "outputs": [
    {
     "name": "stderr",
     "output_type": "stream",
     "text": [
      "C:\\Users\\Karol\\AppData\\Local\\Temp\\ipykernel_23476\\1363785483.py:4: FutureWarning: The argument 'date_parser' is deprecated and will be removed in a future version. Please use 'date_format' instead, or read your data in as 'object' dtype and then call 'to_datetime'.\n",
      "  df = pd.read_csv(data_path, sep=';', index_col=0, parse_dates=['Data'], date_parser=dateparse)\n"
     ]
    }
   ],
   "source": [
    "data_path = 'prices.csv'\n",
    "dateparse = lambda x: datetime.strptime(x, '%Y%m%d')\n",
    "\n",
    "df = pd.read_csv(data_path, sep=';', index_col=0, parse_dates=['Data'], date_parser=dateparse)"
   ]
  },
  {
   "attachments": {},
   "cell_type": "markdown",
   "metadata": {},
   "source": [
    "Data cleaning"
   ]
  },
  {
   "cell_type": "code",
   "execution_count": 3,
   "metadata": {},
   "outputs": [],
   "source": [
    "df['Time'] = pd.to_numeric(df['Time'], errors='coerce')\n",
    "df = df[df['Time'].notna()]\n",
    "df.RCE = df.RCE.astype(float)\n",
    "df.Time = df.Time.astype(int)\n",
    "df.index += df.Time.apply(lambda x: pd.Timedelta(f'{x}h'))\n",
    "df = df.drop('Time', axis=1)\n",
    "df = df.resample('1h').mean()\n",
    "\n",
    "# df.groupby(by='Data').count()\n",
    "# df.asfreq(freq='30D')"
   ]
  },
  {
   "attachments": {},
   "cell_type": "markdown",
   "metadata": {},
   "source": [
    "Creating a dash app"
   ]
  },
  {
   "cell_type": "code",
   "execution_count": 4,
   "metadata": {},
   "outputs": [],
   "source": [
    "from jupyter_dash import JupyterDash\n",
    "from dash import Dash, html, dcc, callback, Output, Input\n",
    "import dash_bootstrap_components as dbc\n",
    "from dash_bootstrap_templates import load_figure_template\n",
    "\n",
    "import plotly.express as px\n",
    "import plotly.graph_objects as go\n",
    "\n",
    "from datetime import date"
   ]
  },
  {
   "cell_type": "code",
   "execution_count": 8,
   "metadata": {},
   "outputs": [
    {
     "name": "stdout",
     "output_type": "stream",
     "text": [
      "Dash is running on http://127.0.0.1:8050/\n",
      "\n",
      "Dash app running on http://127.0.0.1:8050/\n"
     ]
    }
   ],
   "source": [
    "meta_tags = [{\"name\": \"viewport\", \"content\": \"width=device-width, initial-scale=1\"}]\n",
    "load_figure_template(\"materia\")\n",
    "external_stylesheets = [dbc.themes.MATERIA]\n",
    "\n",
    "app = JupyterDash(__name__, meta_tags=meta_tags, external_stylesheets=external_stylesheets)\n",
    "\n",
    "fig = go.Figure()\n",
    "fig = px.scatter(df, labels={'variable':'Zmienna', 'value': 'Cena', 'index': 'Data'}, title='Wykres rynkowej ceny energii elektrycznej')\n",
    "fig.update_layout(legend_title_text='Legenda')\n",
    "# fig.update_layout(showlegend=False)\n",
    "\n",
    "controls = html.Div([\n",
    "        html.Div([\n",
    "            html.H5('Zakres dat:'),\n",
    "            dcc.DatePickerRange(\n",
    "                id='date-picker-range',\n",
    "                min_date_allowed=date(2020, 1, 1),\n",
    "                max_date_allowed=date(2023, 5, 10),\n",
    "                start_date=date(2020, 1, 1),\n",
    "                end_date=date(2023, 5, 10),\n",
    "                className=\"d-flex justify-content-center\",)\n",
    "        ], className=\"px-3 pt-3\"),\n",
    "\n",
    "        html.Hr(),\n",
    "\n",
    "        html.Div([\n",
    "            html.H5('Średnia:'),\n",
    "            dcc.Dropdown(\n",
    "                id='aggregation-type',\n",
    "                options=['Godzinowa', 'Dzienna', 'Tygodniowa', 'Miesięczna', 'Roczna'],\n",
    "                value='Godzinowa')\n",
    "        ], className=\"px-3\"),\n",
    "\n",
    "        html.Hr(),\n",
    "\n",
    "        html.Div([\n",
    "            html.H5('Rodzaj wykresu:'),\n",
    "            html.Div([\n",
    "                dcc.RadioItems(\n",
    "                    ['Punktowy', 'Liniowy'],\n",
    "                    'Punktowy',\n",
    "                    id='plot-type',\n",
    "                    labelStyle={'display': 'inline-block', 'margin':'8px', 'margin-right':'16px'})\n",
    "            ], className=\"d-flex align-items-center border\"),\n",
    "        ], className=\"px-3 pb-3\"),\n",
    "    ],\n",
    "    className=\"d-grid h-auto gap-1 border\"\n",
    ")\n",
    "\n",
    "graph = dbc.Row([\n",
    "    dcc.Graph(id='graph-content', \n",
    "        style={'height':'100%'},\n",
    "        figure=fig,\n",
    "        config={'scrollZoom': True, 'displayModeBar': True, 'displaylogo': False, 'locale': 'pl'}),\n",
    "    # html.Span('Najwyższa cena: '),\n",
    "    # html.Span(id='graph-bottom-text')\n",
    "])\n",
    "\n",
    "\n",
    "app.layout = dbc.Container(\n",
    "    [\n",
    "        html.H1(\"Rynkowa cena energii elektrycznej (RCE)\"),\n",
    "        html.Hr(),\n",
    "        dbc.Row(\n",
    "            [\n",
    "                dbc.Col(controls, className='col-12 col-lg-3'),\n",
    "                dbc.Col(graph, className='col-12 col-lg-9 h-75'),\n",
    "            ],\n",
    "            align=\"center\",\n",
    "            className='h-100',\n",
    "        ),\n",
    "    ],\n",
    "    fluid=True,\n",
    "    style={'height':'85vh'},\n",
    "    className=\"dbc\"\n",
    ")\n",
    "\n",
    "@app.callback(\n",
    "    Output('graph-content', 'figure'),\n",
    "    # Output('graph-bottom-text', 'children'),\n",
    "    Input('date-picker-range', 'start_date'),\n",
    "    Input('date-picker-range', 'end_date'),\n",
    "    Input('plot-type', 'value'),\n",
    "    Input('aggregation-type', 'value')\n",
    ")\n",
    "\n",
    "def update_graph(start_date, end_date, plot_type, aggregation_type):\n",
    "    dff = df[start_date:end_date]\n",
    "\n",
    "    dic = {'Godzinowa':'1h', 'Dzienna':'1D', 'Tygodniowa':'1W', 'Miesięczna':'1M', 'Roczna':'1Y'}\n",
    "\n",
    "    dff = dff.resample(dic[aggregation_type]).mean()\n",
    "\n",
    "    fig = go.Figure()\n",
    "\n",
    "    if plot_type == 'Punktowy':\n",
    "        fig = px.scatter(dff, labels={'variable':'Zmienna', 'value': 'Cena', 'index': 'Data'}, title='Wykres rynkowej ceny energii elektrycznej')\n",
    "\n",
    "    else:\n",
    "        fig = px.line(dff, labels={'variable':'Zmienna', 'value': 'Cena', 'index': 'Data'}, title='Wykres rynkowej ceny energii elektrycznej')\n",
    "\n",
    "    fig.update_layout(legend_title_text='Legenda')\n",
    "    # fig.update_layout(showlegend=False)\n",
    "\n",
    "    return fig\n",
    "    # return fig, dff.RCE.max()\n",
    "\n",
    "if __name__ == '__main__':\n",
    "    app.run_server(debug=True)"
   ]
  },
  {
   "cell_type": "code",
   "execution_count": 1,
   "metadata": {},
   "outputs": [
    {
     "name": "stderr",
     "output_type": "stream",
     "text": [
      "Job \"update_data (trigger: interval[0:00:10], next run at: 2023-06-17 21:23:14 CEST)\" raised an exception\n",
      "Traceback (most recent call last):\n",
      "  File \"C:\\Users\\Karol\\AppData\\Local\\Packages\\PythonSoftwareFoundation.Python.3.11_qbz5n2kfra8p0\\LocalCache\\local-packages\\Python311\\site-packages\\apscheduler\\executors\\base.py\", line 125, in run_job\n",
      "    retval = job.func(*job.args, **job.kwargs)\n",
      "             ^^^^^^^^^^^^^^^^^^^^^^^^^^^^^^^^^\n",
      "  File \"C:\\Users\\Karol\\AppData\\Local\\Temp\\ipykernel_13840\\1150290588.py\", line 60, in update_data\n",
      "    df = pd.concat([df, create_new_df()])\n",
      "                    ^^\n",
      "NameError: name 'df' is not defined\n"
     ]
    }
   ],
   "source": [
    "from apscheduler.schedulers.background import BackgroundScheduler\n",
    "import urllib.request\n",
    "import time\n",
    "from datetime import date, timedelta, datetime\n",
    "import os\n",
    "import pandas as pd\n",
    "\n",
    "def get_data():\n",
    "    tomorrow = date.today() + timedelta(1)\n",
    "    next_day = tomorrow + timedelta(1)\n",
    "\n",
    "    first_day = tomorrow.strftime('%Y%m%d')\n",
    "    last_day = next_day.strftime('%Y%m%d')\n",
    "\n",
    "    # Replace with the actual download link\n",
    "    download_link = f'https://www.pse.pl/getcsv/-/export/csv/EN_PRICE/data_od/{first_day}/data_do/{last_day}'\n",
    "\n",
    "    # Download the file\n",
    "    urllib.request.urlretrieve(download_link, f'new-prices.csv')\n",
    "\n",
    "    # Wait for the download to complete\n",
    "    while True:\n",
    "        time.sleep(1)\n",
    "        if f'new-prices.csv.crdownload' not in os.listdir():\n",
    "            break\n",
    "\n",
    "def update_csv():\n",
    "    file1 = 'new-prices.csv'\n",
    "    file2 = 'prices.csv'\n",
    "\n",
    "    with open(file1, \"r\") as f:\n",
    "        rows = f.readlines()[1:]\n",
    "\n",
    "    target_file = open(file2, 'a')\n",
    "\n",
    "    for row in rows:\n",
    "        target_file.write(row)\n",
    "\n",
    "    target_file.close()\n",
    "\n",
    "def create_new_df():\n",
    "    data_path = 'new-prices.csv'\n",
    "    dateparse = lambda x: datetime.strptime(x, '%Y%m%d')\n",
    "\n",
    "    dff = pd.read_csv(data_path, sep=';', index_col=0, parse_dates=['Data'], date_parser=dateparse)\n",
    "\n",
    "    dff['Time'] = pd.to_numeric(dff['Time'], errors='coerce')\n",
    "    dff = dff[dff['Time'].notna()]\n",
    "    dff.RCE = dff.RCE.astype(float)\n",
    "    dff.Time = dff.Time.astype(int)\n",
    "    dff.index += dff.Time.apply(lambda x: pd.Timedelta(f'{x}h'))\n",
    "    dff = dff.drop('Time', axis=1)\n",
    "\n",
    "    return dff\n",
    "\n",
    "def update_data():\n",
    "    get_data()\n",
    "    update_csv()\n",
    "    global df\n",
    "    df = pd.concat([df, create_new_df()])\n",
    "\n",
    "scheduler = BackgroundScheduler()\n",
    "scheduler.add_job(func=update_data, trigger='interval', days=1)\n",
    "scheduler.start()\n"
   ]
  },
  {
   "attachments": {},
   "cell_type": "markdown",
   "metadata": {},
   "source": [
    "do zrobienia:\n",
    "- zmienic wyglad i dodac nowe funkcje\n",
    "- flask scheduler do aktualizacji danych"
   ]
  },
  {
   "attachments": {},
   "cell_type": "markdown",
   "metadata": {},
   "source": []
  },
  {
   "attachments": {},
   "cell_type": "markdown",
   "metadata": {},
   "source": []
  }
 ],
 "metadata": {
  "kernelspec": {
   "display_name": "Python 3",
   "language": "python",
   "name": "python3"
  },
  "language_info": {
   "codemirror_mode": {
    "name": "ipython",
    "version": 3
   },
   "file_extension": ".py",
   "mimetype": "text/x-python",
   "name": "python",
   "nbconvert_exporter": "python",
   "pygments_lexer": "ipython3",
   "version": "3.11.4"
  },
  "orig_nbformat": 4
 },
 "nbformat": 4,
 "nbformat_minor": 2
}
