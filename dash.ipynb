{
 "cells": [
  {
   "cell_type": "code",
   "execution_count": 4,
   "metadata": {},
   "outputs": [],
   "source": [
    "import pandas as pd\n",
    "from datetime import datetime"
   ]
  },
  {
   "cell_type": "code",
   "execution_count": 5,
   "metadata": {},
   "outputs": [],
   "source": [
    "data_path = '/home/karol/python/electricity-prices-app/prices.csv'\n",
    "dateparse = lambda x: datetime.strptime(x, '%Y%m%d')\n",
    "\n",
    "df = pd.read_csv(data_path, sep=';', parse_dates=['Data'], date_parser=dateparse)"
   ]
  },
  {
   "attachments": {},
   "cell_type": "markdown",
   "metadata": {},
   "source": [
    "Data cleaning"
   ]
  },
  {
   "cell_type": "code",
   "execution_count": 6,
   "metadata": {},
   "outputs": [
    {
     "name": "stderr",
     "output_type": "stream",
     "text": [
      "/tmp/ipykernel_25222/1164191.py:2: SettingWithCopyWarning:\n",
      "\n",
      "\n",
      "A value is trying to be set on a copy of a slice from a DataFrame\n",
      "\n",
      "See the caveats in the documentation: https://pandas.pydata.org/pandas-docs/stable/user_guide/indexing.html#returning-a-view-versus-a-copy\n",
      "\n"
     ]
    }
   ],
   "source": [
    "for i in range(len(df.RCE)):\n",
    "    df.RCE[i] = df.RCE[i].replace(',', '')\n",
    "\n",
    "df['Time'] = pd.to_numeric(df['Time'], errors='coerce')\n",
    "\n",
    "df.RCE = df.RCE.astype(float)\n",
    "df.Time = df.Time.astype(float)\n",
    "\n",
    "df = df[df['Time'].notna()]\n",
    "\n",
    "df.set_index('Data', inplace=True)\n",
    "df.index += df.Time.apply(lambda x: pd.Timedelta(f'{x}h'))\n",
    "df = df.drop('Time', axis=1)"
   ]
  },
  {
   "cell_type": "code",
   "execution_count": 7,
   "metadata": {},
   "outputs": [],
   "source": [
    "# df.groupby(by='Data').count()\n",
    "# df.asfreq(freq='30D')"
   ]
  },
  {
   "attachments": {},
   "cell_type": "markdown",
   "metadata": {},
   "source": [
    "Creating a dash app"
   ]
  },
  {
   "cell_type": "code",
   "execution_count": 8,
   "metadata": {},
   "outputs": [],
   "source": [
    "from jupyter_dash import JupyterDash\n",
    "from dash import Dash, html, dcc, callback, Output, Input\n",
    "import dash_bootstrap_components as dbc\n",
    "from dash_bootstrap_templates import load_figure_template\n",
    "\n",
    "import plotly.express as px\n",
    "import plotly.graph_objects as go\n",
    "\n",
    "from datetime import date"
   ]
  },
  {
   "cell_type": "code",
   "execution_count": 27,
   "metadata": {},
   "outputs": [
    {
     "name": "stdout",
     "output_type": "stream",
     "text": [
      "Dash is running on http://127.0.0.1:8050/\n",
      "\n",
      "Dash app running on http://127.0.0.1:8050/\n"
     ]
    },
    {
     "name": "stderr",
     "output_type": "stream",
     "text": [
      "/tmp/ipykernel_25222/2662861330.py:82: FutureWarning:\n",
      "\n",
      "Value based partial slicing on non-monotonic DatetimeIndexes with non-existing keys is deprecated and will raise a KeyError in a future Version.\n",
      "\n",
      "/tmp/ipykernel_25222/2662861330.py:82: FutureWarning:\n",
      "\n",
      "Value based partial slicing on non-monotonic DatetimeIndexes with non-existing keys is deprecated and will raise a KeyError in a future Version.\n",
      "\n"
     ]
    }
   ],
   "source": [
    "meta_tags = [{\"name\": \"viewport\", \"content\": \"width=device-width, initial-scale=1\"}]\n",
    "load_figure_template(\"materia\")\n",
    "external_stylesheets = [dbc.themes.MATERIA]\n",
    "\n",
    "app = JupyterDash(__name__, meta_tags=meta_tags, external_stylesheets=external_stylesheets)\n",
    "\n",
    "fig = go.Figure()\n",
    "fig = px.scatter(df, labels={'variable':'Zmienna', 'value': 'Cena', 'index': 'Data'}, title='Wykres rynkowej ceny energii elektrycznej')\n",
    "fig.update_layout(legend_title_text='Legenda')\n",
    "# fig.update_layout(showlegend=False)\n",
    "\n",
    "controls = html.Div([\n",
    "        html.Div([\n",
    "            html.H5('Zakres dat:'),\n",
    "            dcc.DatePickerRange(\n",
    "                id='date-picker-range',\n",
    "                min_date_allowed=date(2020, 1, 1),\n",
    "                max_date_allowed=date(2023, 5, 10),\n",
    "                start_date=date(2020, 1, 1),\n",
    "                end_date=date(2023, 5, 10),\n",
    "                className=\"d-flex justify-content-center\",)\n",
    "        ], className=\"px-3 pt-3\"),\n",
    "\n",
    "        html.Hr(),\n",
    "\n",
    "        html.Div([\n",
    "            html.H5('Średnia:'),\n",
    "            dcc.Dropdown(\n",
    "                id='aggregation-type',\n",
    "                options=['Godzinowa', 'Dzienna', 'Tygodniowa', 'Miesięczna', 'Roczna', 'Automatyczna'],\n",
    "                value='Godzinowa')\n",
    "        ], className=\"px-3\"),\n",
    "\n",
    "        html.Hr(),\n",
    "\n",
    "        html.Div([\n",
    "            html.H5('Rodzaj wykresu:'),\n",
    "            html.Div([\n",
    "                dcc.RadioItems(\n",
    "                    ['Punktowy', 'Liniowy'],\n",
    "                    'Punktowy',\n",
    "                    id='plot-type',\n",
    "                    labelStyle={'display': 'inline-block', 'margin':'8px', 'margin-right':'16px'})\n",
    "            ], className=\"d-flex align-items-center border\"),\n",
    "        ], className=\"px-3 pb-3\"),\n",
    "    ],\n",
    "    className=\"d-grid h-auto gap-1 border\"\n",
    ")\n",
    "\n",
    "graph = dcc.Graph(id='graph-content', \n",
    "                  style={'height':'100%'},\n",
    "                  figure=fig,\n",
    "                  config={'scrollZoom': True, 'displayModeBar': True, 'displaylogo': False, 'locale': 'pl'})\n",
    "\n",
    "app.layout = dbc.Container(\n",
    "    [\n",
    "        html.H1(\"Rynkowa cena energii elektrycznej (RCE)\"),\n",
    "        html.Hr(),\n",
    "        dbc.Row(\n",
    "            [\n",
    "                dbc.Col(controls, className='col-12 col-lg-3'),\n",
    "                dbc.Col(graph, className='col-12 col-lg-9 h-75'),\n",
    "            ],\n",
    "            align=\"center\",\n",
    "            className='h-100',\n",
    "        ),\n",
    "    ],\n",
    "    fluid=True,\n",
    "    style={'height':'85vh'},\n",
    "    className=\"dbc\"\n",
    ")\n",
    "\n",
    "@app.callback(\n",
    "    Output('graph-content', 'figure'),\n",
    "    Input('date-picker-range', 'start_date'),\n",
    "    Input('date-picker-range', 'end_date'),\n",
    "    Input('plot-type', 'value'),\n",
    "    Input('aggregation-type', 'value')\n",
    ")\n",
    "\n",
    "def update_graph(start_date, end_date, plot_type, aggregation_type):\n",
    "    dff = df[start_date:end_date]\n",
    "\n",
    "    # if aggregation_type == 'Automatyczna':\n",
    "\n",
    "    dic = {'Godzinowa':'1h', 'Dzienna':'1D', 'Tygodniowa':'1W', 'Miesięczna':'1M', 'Roczna':'1Y'}\n",
    "\n",
    "    dff = dff.resample(dic[aggregation_type]).mean()\n",
    "\n",
    "    fig = go.Figure()\n",
    "\n",
    "    if plot_type == 'Punktowy':\n",
    "        fig = px.scatter(dff, labels={'variable':'Zmienna', 'value': 'Cena', 'index': 'Data'}, title='Wykres rynkowej ceny energii elektrycznej')\n",
    "\n",
    "    else:\n",
    "        fig = px.line(dff, labels={'variable':'Zmienna', 'value': 'Cena', 'index': 'Data'}, title='Wykres rynkowej ceny energii elektrycznej')\n",
    "\n",
    "    fig.update_layout(legend_title_text='Legenda')\n",
    "    # fig.update_layout(showlegend=False)\n",
    "\n",
    "    return fig\n",
    "\n",
    "if __name__ == '__main__':\n",
    "    app.run_server(debug=True)"
   ]
  },
  {
   "attachments": {},
   "cell_type": "markdown",
   "metadata": {},
   "source": [
    "do zrobienia:\n",
    "- zmienic wyglad i dodac nowe funkcje\n",
    "- docker\n",
    "- sprobowac stworzyc obraz na dockerze"
   ]
  }
 ],
 "metadata": {
  "kernelspec": {
   "display_name": "Python 3",
   "language": "python",
   "name": "python3"
  },
  "language_info": {
   "codemirror_mode": {
    "name": "ipython",
    "version": 3
   },
   "file_extension": ".py",
   "mimetype": "text/x-python",
   "name": "python",
   "nbconvert_exporter": "python",
   "pygments_lexer": "ipython3",
   "version": "3.10.6"
  },
  "orig_nbformat": 4
 },
 "nbformat": 4,
 "nbformat_minor": 2
}
