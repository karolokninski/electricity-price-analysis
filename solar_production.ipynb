{
 "cells": [
  {
   "cell_type": "code",
   "execution_count": 1,
   "metadata": {},
   "outputs": [],
   "source": [
    "import requests\n",
    "\n",
    "r = requests.get('https://api.oikolab.com/weather',\n",
    "                 params={'param': ['surface_solar_radiation'],#,'surface_direct_solar_radiation'],\n",
    "                         'start': '2023-07-10',\n",
    "                         'end': '2023-07-11',\n",
    "                         'lat': 52.1077,\n",
    "                         'lon': 22.1306,\n",
    "                         'api-key': 'your_api_key_here'}\n",
    ")"
   ]
  },
  {
   "cell_type": "code",
   "execution_count": null,
   "metadata": {},
   "outputs": [],
   "source": [
    "import json\n",
    "import pandas as pd\n",
    "\n",
    "weather_data = json.loads(r.json()['data'])\n",
    "weather_df = pd.DataFrame(index=pd.to_datetime(weather_data['index'], unit='s'),\n",
    "                        data=weather_data['data'],\n",
    "                        columns=weather_data['columns']\n",
    ")\n",
    "\n",
    "weather_df.to_csv('weather_data.csv')"
   ]
  },
  {
   "cell_type": "code",
   "execution_count": null,
   "metadata": {},
   "outputs": [],
   "source": [
    "weather_df = pd.read_csv('weather_data.csv', index_col='time', parse_dates=True)\n",
    "weather_df.index += pd.Timedelta(hours=2) # convert from UTC to UTC+2"
   ]
  },
  {
   "cell_type": "code",
   "execution_count": null,
   "metadata": {},
   "outputs": [],
   "source": [
    "Wp = 7000\n",
    "eff = 0.9\n",
    "radiation = weather_df['surface_solar_radiation (W/m^2)']\n",
    "\n",
    "E = Wp * eff * radiation / 1000\n",
    "E = E.resample('1D').sum()"
   ]
  },
  {
   "cell_type": "code",
   "execution_count": null,
   "metadata": {},
   "outputs": [],
   "source": [
    "import plotly.express as px\n",
    "\n",
    "px.area(E)"
   ]
  },
  {
   "cell_type": "code",
   "execution_count": null,
   "metadata": {},
   "outputs": [],
   "source": [
    "table = pd.read_csv('efficiency_table.csv', index_col='angle')\n",
    "table['90']"
   ]
  }
 ],
 "metadata": {
  "kernelspec": {
   "display_name": "Python 3",
   "language": "python",
   "name": "python3"
  },
  "language_info": {
   "codemirror_mode": {
    "name": "ipython",
    "version": 3
   },
   "file_extension": ".py",
   "mimetype": "text/x-python",
   "name": "python",
   "nbconvert_exporter": "python",
   "pygments_lexer": "ipython3",
   "version": "3.11.4"
  },
  "orig_nbformat": 4
 },
 "nbformat": 4,
 "nbformat_minor": 2
}
